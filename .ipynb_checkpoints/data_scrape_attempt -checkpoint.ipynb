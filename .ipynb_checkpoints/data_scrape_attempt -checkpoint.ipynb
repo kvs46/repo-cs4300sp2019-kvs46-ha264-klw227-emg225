{
 "cells": [
  {
   "cell_type": "code",
   "execution_count": 1,
   "metadata": {},
   "outputs": [],
   "source": [
    "import wikipedia\n",
    "import csv"
   ]
  },
  {
   "cell_type": "code",
   "execution_count": 2,
   "metadata": {},
   "outputs": [
    {
     "name": "stdout",
     "output_type": "stream",
     "text": [
      "6\n",
      "{'Queens', 'Manhattan', 'Staten Island', 'Brooklyn', 'Bronx', 'Staten Is'}\n",
      "49\n",
      "{'Buildings/Institutions', 'Garden', 'State Forest', 'Neighborhood Park', 'Freshwater Wetland', 'Trailway', 'Regional Park', 'Outdoor Pool', 'Special Recreational Facility - Indoor', 'Special Recreational Facility - Outdoor', 'Flagship Park', 'Playground/Sports Area', 'Managed Sites', 'Nature Area', 'Mall', 'Unique Area', 'Pedestrian Plaza', 'Recreation Field/Courts', 'Community Park', 'Botanical Garden', 'Playground', 'Public Place/Plaza', 'Parkway', 'City-State Park', 'Sitting Area', 'State Park', 'Community Garden', 'Beach', 'Stadium', 'Open Space', 'Mall/Triangle/Highway Strip/Park Strip', 'Recreational Facility', 'Park', 'Golf Course', 'Strip', 'Natural Area/Wetland/Wildlife Refuge', 'Privately Owned Public Space', 'Natural Resource Area', 'Recreation Center/Gymnasium', 'Neighborhood Sitting Area', 'Tidal Wetland', 'Tennis Court, Basketball Court, Etc', 'Indoor Pool', 'Jointly Operated Playground', 'Accessory Play Area', 'Playing Field', 'Waterfront Facility', 'State Park Preserve', 'Triangle/Plaza'}\n",
      "351\n"
     ]
    }
   ],
   "source": [
    "##need to make sure this csv resides in the same location as this python notebook\n",
    "nyc_open_data = {}\n",
    "with open('parks_and_pops.csv') as csvfile:\n",
    "    file = csv.reader(csvfile, delimiter=',')\n",
    "    first = True\n",
    "    for row in file:\n",
    "        ##exclude column headers\n",
    "        if not first :\n",
    "            name = row[5]\n",
    "            nyc_open_data[name]={}\n",
    "            nyc_open_data[name]['address'] = row[8]\n",
    "            nyc_open_data[name]['boro']=row[10]\n",
    "            nyc_open_data[name]['zipcode']=row[12]\n",
    "            nyc_open_data[name]['latitude']=row[13]\n",
    "            nyc_open_data[name]['longitude']=row[14]\n",
    "            nyc_open_data[name]['type']=row[26]\n",
    "        else:\n",
    "            first = False\n",
    "\n",
    "boros = set()\n",
    "types = set()\n",
    "for name in nyc_open_data:\n",
    "    boros.add(nyc_open_data[name]['boro'])\n",
    "    types.add(nyc_open_data[name]['type'])\n",
    "\n",
    "print(len(boros))\n",
    "print(boros)\n",
    "\n",
    "print(len(types))\n",
    "print(types)\n",
    "\n",
    "count = 0\n",
    "for name in nyc_open_data:\n",
    "    if nyc_open_data[name]['type'] == 'Privately Owned Public Space':\n",
    "        count+=1\n",
    "\n",
    "print(count)\n"
   ]
  },
  {
   "cell_type": "code",
   "execution_count": 3,
   "metadata": {},
   "outputs": [],
   "source": [
    "wiki_pops = wikipedia.WikipediaPage(title = 'List of privately owned public spaces in New York City').links\n",
    "wiki_pops_dict = {}\n",
    "pops_count=0"
   ]
  },
  {
   "cell_type": "code",
   "execution_count": 4,
   "metadata": {},
   "outputs": [],
   "source": [
    "for pop in wiki_pops :\n",
    "    try:\n",
    "        wiki_pops_dict[pop]={}\n",
    "        wiki_pops_dict[pop]['summary']=wikipedia.WikipediaPage(title = pop).summary\n",
    "        wiki_pops_dict[pop]['contents'] = wikipedia.WikipediaPage(title = pop).content\n",
    "        if pop in nyc_open_data:\n",
    "            pops_count += 1\n",
    "    except:\n",
    "        pass\n",
    "        "
   ]
  },
  {
   "cell_type": "code",
   "execution_count": 5,
   "metadata": {},
   "outputs": [],
   "source": [
    "wiki_parks = wikipedia.WikipediaPage(title = 'List of New York City parks').links\n",
    "wiki_parks_dict = {}\n",
    "parks_count = 0"
   ]
  },
  {
   "cell_type": "code",
   "execution_count": 6,
   "metadata": {},
   "outputs": [
    {
     "name": "stderr",
     "output_type": "stream",
     "text": [
      "/Users/Kyra/venv/lib/python3.5/site-packages/bs4/__init__.py:181: UserWarning: No parser was explicitly specified, so I'm using the best available HTML parser for this system (\"html5lib\"). This usually isn't a problem, but if you run this code on another system, or in a different virtual environment, it may use a different parser and behave differently.\n",
      "\n",
      "The code that caused this warning is on line 184 of the file /Library/Frameworks/Python.framework/Versions/3.5/lib/python3.5/runpy.py. To get rid of this warning, change code that looks like this:\n",
      "\n",
      " BeautifulSoup(YOUR_MARKUP})\n",
      "\n",
      "to this:\n",
      "\n",
      " BeautifulSoup(YOUR_MARKUP, \"html5lib\")\n",
      "\n",
      "  markup_type=markup_type))\n"
     ]
    }
   ],
   "source": [
    "for park in wiki_parks :\n",
    "    try:\n",
    "        wiki_pops_dict[park]={}\n",
    "        wiki_pops_dict[park]['summary']=wikipedia.WikipediaPage(title = park).summary\n",
    "        wiki_pops_dict[park]['contents'] = wikipedia.WikipediaPage(title = park).content\n",
    "        if park in nyc_open_data:\n",
    "            parks_count += 1\n",
    "    except:\n",
    "        pass"
   ]
  },
  {
   "cell_type": "code",
   "execution_count": 7,
   "metadata": {},
   "outputs": [
    {
     "name": "stdout",
     "output_type": "stream",
     "text": [
      "112\n",
      "122\n"
     ]
    }
   ],
   "source": [
    "##data that is in both nyc open data and wikipedia\n",
    "print(parks_count)\n",
    "print(pops_count)\n",
    "\n",
    "\n",
    "##this takes like 12 minutes to run, but lots of info so thats neat"
   ]
  }
 ],
 "metadata": {
  "kernelspec": {
   "display_name": "venv",
   "language": "python",
   "name": "venv"
  },
  "language_info": {
   "codemirror_mode": {
    "name": "ipython",
    "version": 3
   },
   "file_extension": ".py",
   "mimetype": "text/x-python",
   "name": "python",
   "nbconvert_exporter": "python",
   "pygments_lexer": "ipython3",
   "version": "3.5.2"
  }
 },
 "nbformat": 4,
 "nbformat_minor": 2
}
