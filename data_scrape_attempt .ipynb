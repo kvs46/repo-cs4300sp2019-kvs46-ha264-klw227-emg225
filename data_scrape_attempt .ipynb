{
 "cells": [
  {
   "cell_type": "code",
   "execution_count": 2,
   "metadata": {},
   "outputs": [],
   "source": [
    "import wikipedia\n",
    "import numpy as np\n",
    "import csv\n",
    "%matplotlib inline\n",
    "import matplotlib.pyplot as plt\n",
    "import re"
   ]
  },
  {
   "cell_type": "code",
   "execution_count": 3,
   "metadata": {},
   "outputs": [
    {
     "name": "stdout",
     "output_type": "stream",
     "text": [
      "6\n",
      "{'Brooklyn', 'Staten Is', 'Staten Island', 'Bronx', 'Manhattan', 'Queens'}\n",
      "49\n",
      "{'Recreation Field/Courts', 'Community Park', 'Mall/Triangle/Highway Strip/Park Strip', 'State Park', 'Park', 'Nature Area', 'Playground/Sports Area', 'Waterfront Facility', 'Tidal Wetland', 'Buildings/Institutions', 'Playground', 'Botanical Garden', 'Privately Owned Public Space', 'State Forest', 'Special Recreational Facility - Indoor', 'Neighborhood Sitting Area', 'Mall', 'Open Space', 'Managed Sites', 'Sitting Area', 'Recreation Center/Gymnasium', 'Accessory Play Area', 'Regional Park', 'Trailway', 'Natural Area/Wetland/Wildlife Refuge', 'City-State Park', 'Indoor Pool', 'Outdoor Pool', 'Community Garden', 'Natural Resource Area', 'Garden', 'Beach', 'Parkway', 'Flagship Park', 'Playing Field', 'Special Recreational Facility - Outdoor', 'State Park Preserve', 'Strip', 'Tennis Court, Basketball Court, Etc', 'Stadium', 'Unique Area', 'Pedestrian Plaza', 'Recreational Facility', 'Triangle/Plaza', 'Freshwater Wetland', 'Public Place/Plaza', 'Golf Course', 'Jointly Operated Playground', 'Neighborhood Park'}\n",
      "351\n"
     ]
    }
   ],
   "source": [
    "##need to make sure this csv resides in the same location as this python notebook\n",
    "##parse csv file of open source data into a dictionary\n",
    "nyc_open_data = {}\n",
    "with open('parks_and_pops.csv') as csvfile:\n",
    "    file = csv.reader(csvfile, delimiter=',')\n",
    "    first = True\n",
    "    for row in file:\n",
    "        ##exclude column headers\n",
    "        if not first :\n",
    "            name = row[5]\n",
    "            nyc_open_data[name]={}\n",
    "            nyc_open_data[name]['address'] = row[8]\n",
    "            nyc_open_data[name]['boro']=row[10]\n",
    "            nyc_open_data[name]['zipcode']=row[12]\n",
    "            nyc_open_data[name]['latitude']=row[13]\n",
    "            nyc_open_data[name]['longitude']=row[14]\n",
    "            nyc_open_data[name]['type']=row[26]\n",
    "            nyc_open_data[name]['summary']=row[26]\n",
    "        else:\n",
    "            first = False\n",
    "\n",
    "##gather data on boro distribution and type of feature distribution\n",
    "boros = set()\n",
    "types = set()\n",
    "for name in nyc_open_data:\n",
    "    boros.add(nyc_open_data[name]['boro'])\n",
    "    types.add(nyc_open_data[name]['type'])\n",
    "\n",
    "print(len(boros))\n",
    "print(boros)\n",
    "\n",
    "print(len(types))\n",
    "print(types)\n",
    "\n",
    "count = 0\n",
    "for name in nyc_open_data:\n",
    "    if nyc_open_data[name]['type'] == 'Privately Owned Public Space':\n",
    "        count+=1\n",
    "print(count)\n",
    "\n",
    "count_types = {}\n",
    "for feature in types:\n",
    "    count_types[feature]=0\n",
    "\n",
    "count_boros = {}\n",
    "for boro in boros:\n",
    "    count_boros[boro]=0\n",
    "    \n",
    "for name in nyc_open_data:\n",
    "    feature = nyc_open_data[name]['type']\n",
    "    boro = nyc_open_data[name]['boro']\n",
    "    count_types[feature]+=1\n",
    "    count_boros[boro]+=1\n",
    "\n",
    "##filter to only types we are interested in\n",
    "major_types = {}\n",
    "major_types['Park']=0\n",
    "major_types['Pops']=0\n",
    "major_types['Playground']=0\n",
    "major_types['Garden']=0\n",
    "for feature in count_types:\n",
    "    if 'Park' in feature:\n",
    "        major_types['Park']+=count_types[feature]\n",
    "    if 'Privately Owned Public Space' == feature:\n",
    "        major_types['Pops']+=count_types[feature]\n",
    "    if 'Playground' in feature:\n",
    "        major_types['Playground']+=count_types[feature]\n",
    "    if 'Garden' in feature:\n",
    "        major_types['Garden']+=count_types[feature]"
   ]
  },
  {
   "cell_type": "code",
   "execution_count": 4,
   "metadata": {},
   "outputs": [
    {
     "data": {
      "image/png": "[encoded data removed]",
      "text/plain": [
       "<matplotlib.figure.Figure at 0x106475b38>"
      ]
     },
     "metadata": {},
     "output_type": "display_data"
    }
   ],
   "source": [
    "n = len(boros)\n",
    "number = [count_boros[boro] for boro in list(count_boros.keys())]\n",
    "index = np.arange(len(boros))\n",
    "\n",
    "plt.bar(index, number, color='b',label='boro distribution')\n",
    "\n",
    "plt.title('boro distribution')\n",
    "plt.xlabel('Boro')\n",
    "plt.ylabel('Number of Outdoor Features')\n",
    "plt.xticks(index, [boro for boro in list(count_boros.keys())])\n",
    "\n",
    "plt.show()"
   ]
  },
  {
   "cell_type": "code",
   "execution_count": 4,
   "metadata": {},
   "outputs": [
    {
     "data": {
      "image/png": "[encoded data removed]",
      "text/plain": [
       "<matplotlib.figure.Figure at 0x116c7fd30>"
      ]
     },
     "metadata": {},
     "output_type": "display_data"
    }
   ],
   "source": [
    "n = len(types)\n",
    "number = [major_types[feature] for feature in list(major_types.keys())]\n",
    "index = np.arange(len(major_types.keys()))\n",
    "\n",
    "plt.bar(index, number, color='r',label='feature distribution')\n",
    "\n",
    "plt.title('feature distribution')\n",
    "plt.xlabel('Type')\n",
    "plt.ylabel('Number of Specified Outdoor Features')\n",
    "plt.xticks(index, [feature for feature in list(major_types.keys())])\n",
    "\n",
    "plt.show()"
   ]
  },
  {
   "cell_type": "code",
   "execution_count": 5,
   "metadata": {},
   "outputs": [],
   "source": [
    "data={}"
   ]
  },
  {
   "cell_type": "code",
   "execution_count": 6,
   "metadata": {},
   "outputs": [],
   "source": [
    "#obtain links to privatley owned public spaces\n",
    "wiki_pops = wikipedia.WikipediaPage(title = 'List of privately owned public spaces in New York City').links\n",
    "pops_count=0"
   ]
  },
  {
   "cell_type": "code",
   "execution_count": 7,
   "metadata": {},
   "outputs": [],
   "source": [
    "##cross open source data and wikipedia data and create a new dictionary\n",
    "for pop in wiki_pops :\n",
    "    try:\n",
    "        if pop in nyc_open_data:\n",
    "            summary = re.sub(r'[^\\w\\s]','', wikipedia.WikipediaPage(title = pop).summary)\n",
    "            contents = re.sub(r'[^\\w\\s]','', wikipedia.WikipediaPage(title = pop).content)\n",
    "            summary=re.sub('\\s+',' ',summary)\n",
    "            contents = re.sub('\\s+',' ',contents)\n",
    "            pops_count += 1\n",
    "            data[pop]={}\n",
    "            \n",
    "            if(nyc_open_data[pop].get('address')!=None):\n",
    "                data[pop]['address'] = nyc_open_data[pop]['address']\n",
    "            else:\n",
    "                data[pop]['address']=''\n",
    "                \n",
    "            if(nyc_open_data[pop].get('boro')!=None):\n",
    "                data[pop]['boro'] = nyc_open_data[pop]['boro']\n",
    "            else:\n",
    "                data[pop]['boro']=''\n",
    "                \n",
    "            if(nyc_open_data[pop].get('zipcode')!=None):\n",
    "                data[pop]['zipcode'] = nyc_open_data[pop]['zipcode']\n",
    "            else:\n",
    "                data[pop]['zipcode']=''\n",
    "                \n",
    "            if(nyc_open_data[pop].get('latitude')!=None):\n",
    "                data[pop]['latitude'] = nyc_open_data[pop]['latitude']\n",
    "            else:\n",
    "                data[pop]['latitude']=''\n",
    "                \n",
    "            if(nyc_open_data[pop].get('longitude')!=None):\n",
    "                data[pop]['longitude'] = nyc_open_data[pop]['longitude']\n",
    "            else:\n",
    "                data[pop]['longitude']=''\n",
    "                \n",
    "            if(nyc_open_data[pop].get('type')!=None):\n",
    "                data[pop]['type'] = nyc_open_data[pop]['type']\n",
    "            else:\n",
    "                data[pop]['type']=''\n",
    "                \n",
    "            data[pop]['summary']= summary \n",
    "            data[pop]['contents'] = contents\n",
    "    except:\n",
    "        pass        "
   ]
  },
  {
   "cell_type": "code",
   "execution_count": 8,
   "metadata": {},
   "outputs": [],
   "source": [
    "wiki_parks = wikipedia.WikipediaPage(title = 'List of New York City parks').links\n",
    "parks_count = 0\n",
    "overlap = 0"
   ]
  },
  {
   "cell_type": "code",
   "execution_count": 9,
   "metadata": {},
   "outputs": [],
   "source": [
    "#create a dictionary the same way for parks\n",
    "for park in wiki_parks :\n",
    "    try:\n",
    "        if park in nyc_open_data:\n",
    "            if park in data:\n",
    "                overlap+=1\n",
    "            summary = re.sub(r'[^\\w\\s]','', wikipedia.WikipediaPage(title = park).summary)\n",
    "            contents = re.sub(r'[^\\w\\s]','', wikipedia.WikipediaPage(title = park).content)\n",
    "            summary=re.sub('\\s+',' ',summary)\n",
    "            contents = re.sub('\\s+',' ',contents)\n",
    "            parks_count += 1\n",
    "            data[park]={}\n",
    "            \n",
    "            if(nyc_open_data[park].get('address')!=None):\n",
    "                data[park]['address'] = nyc_open_data[park]['address']\n",
    "            else:\n",
    "                data[park]['address']=''\n",
    "                \n",
    "            if(nyc_open_data[park].get('boro')!=None):\n",
    "                data[park]['boro'] = nyc_open_data[park]['boro']\n",
    "            else:\n",
    "                data[park]['boro']=''\n",
    "                \n",
    "            if(nyc_open_data[park].get('zipcode')!=None):\n",
    "                data[park]['zipcode'] = nyc_open_data[park]['zipcode']\n",
    "            else:\n",
    "                data[park]['zipcode']=''\n",
    "                \n",
    "            if(nyc_open_data[park].get('latitude')!=None):\n",
    "                data[park]['latitude'] = nyc_open_data[park]['latitude']\n",
    "            else:\n",
    "                data[park]['latitude']=''\n",
    "                \n",
    "            if(nyc_open_data[park].get('longitude')!=None):\n",
    "                data[park]['longitude'] = nyc_open_data[park]['longitude']\n",
    "            else:\n",
    "                data[park]['longitude']=''\n",
    "                \n",
    "            if(nyc_open_data[park].get('type')!=None):\n",
    "                data[park]['type'] = nyc_open_data[park]['type']\n",
    "            else:\n",
    "                data[park]['type']=''\n",
    "                \n",
    "            data[park]['summary']= summary \n",
    "            data[park]['contents'] = contents\n",
    "    except:\n",
    "        pass    "
   ]
  },
  {
   "cell_type": "code",
   "execution_count": 10,
   "metadata": {},
   "outputs": [
    {
     "name": "stderr",
     "output_type": "stream",
     "text": [
      "112\n",
      "122\n",
      "109\n",
      "125\n"
     ]
    }
   ],
   "source": [
    "##data that is in both nyc open data and wikipedia\n",
    "print(parks_count)\n",
    "print(pops_count)\n",
    "##realized lots of overlap in the link data, need to shift to searching method\n",
    "print(overlap)\n",
    "print(len(list(data.keys())))\n",
    "##this takes like 12 minutes to run, but lots of info so thats neat"
   ]
  },
  {
   "cell_type": "code",
   "execution_count": 11,
   "metadata": {},
   "outputs": [],
   "source": [
    "#write to a csv file\n",
    "header = list(data[list(data.keys())[0]].keys())\n",
    "with open('processed_data.csv', 'w', newline=\"\") as f:\n",
    "    write = csv.writer(f)\n",
    "    write.writerow(['Name', *header])\n",
    "    for a, b in data.items():\n",
    "        write.writerow([a]+[b.get(i, '') for i in header])"
   ]
  }
 ],
 "metadata": {
  "kernelspec": {
   "display_name": "venv",
   "language": "python",
   "name": "venv"
  },
  "language_info": {
   "codemirror_mode": {
    "name": "ipython",
    "version": 3
   },
   "file_extension": ".py",
   "mimetype": "text/x-python",
   "name": "python",
   "nbconvert_exporter": "python",
   "pygments_lexer": "ipython3",
   "version": "3.5.2"
  }
 },
 "nbformat": 4,
 "nbformat_minor": 2
}
